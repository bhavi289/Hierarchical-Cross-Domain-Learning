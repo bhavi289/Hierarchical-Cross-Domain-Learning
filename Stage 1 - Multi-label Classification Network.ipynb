{
 "cells": [
  {
   "cell_type": "code",
   "execution_count": 1,
   "metadata": {
    "ExecuteTime": {
     "end_time": "2023-07-17T06:20:15.170022Z",
     "start_time": "2023-07-17T06:20:15.167781Z"
    },
    "application/vnd.databricks.v1+cell": {
     "cellMetadata": {},
     "inputWidgets": {},
     "nuid": "4c06313b-e37c-4f7b-929c-03545f82b34d",
     "showTitle": false,
     "title": ""
    }
   },
   "outputs": [],
   "source": [
    "# Training a Multi-label Classification Network using TF 2.0"
   ]
  },
  {
   "cell_type": "code",
   "execution_count": 6,
   "metadata": {
    "ExecuteTime": {
     "end_time": "2023-07-19T07:04:15.682333Z",
     "start_time": "2023-07-19T07:04:15.678636Z"
    },
    "application/vnd.databricks.v1+cell": {
     "cellMetadata": {
      "byteLimit": 2048000,
      "rowLimit": 10000
     },
     "inputWidgets": {},
     "nuid": "69f4ecbc-e177-4317-8b33-dfd3dd8bf048",
     "showTitle": false,
     "title": ""
    }
   },
   "outputs": [],
   "source": [
    "import pandas as pd\n",
    "import tensorflow as tf\n",
    "from tensorflow import keras \n",
    "from tensorflow.keras.models import Sequential\n",
    "from tensorflow.keras.regularizers import L1L2\n",
    "from tensorflow.keras import optimizers, losses, metrics, callbacks\n",
    "from tensorflow.keras.layers import Activation, Dense, Input, BatchNormalization"
   ]
  },
  {
   "cell_type": "code",
   "execution_count": 7,
   "metadata": {
    "ExecuteTime": {
     "end_time": "2023-07-19T07:04:16.300136Z",
     "start_time": "2023-07-19T07:04:16.296943Z"
    },
    "application/vnd.databricks.v1+cell": {
     "cellMetadata": {},
     "inputWidgets": {},
     "nuid": "736c9ffd-44dc-404c-82fa-a8d5fe7ed81b",
     "showTitle": false,
     "title": ""
    }
   },
   "outputs": [],
   "source": [
    "# define training and validation dataset path\n",
    "train_path = \"train.csv\"\n",
    "val_path = \"val.csv\""
   ]
  },
  {
   "cell_type": "code",
   "execution_count": 8,
   "metadata": {
    "ExecuteTime": {
     "end_time": "2023-07-19T07:04:17.404535Z",
     "start_time": "2023-07-19T07:04:17.373785Z"
    },
    "application/vnd.databricks.v1+cell": {
     "cellMetadata": {
      "byteLimit": 2048000,
      "rowLimit": 10000
     },
     "inputWidgets": {},
     "nuid": "b9284d8b-b4a0-4047-9fa5-fc543206dedf",
     "showTitle": false,
     "title": ""
    }
   },
   "outputs": [],
   "source": [
    "# Read Training and Validation data\n",
    "train = pd.read_csv(train_path)\n",
    "val = pd.read_csv(val_path)"
   ]
  },
  {
   "cell_type": "code",
   "execution_count": 10,
   "metadata": {
    "ExecuteTime": {
     "end_time": "2023-07-19T07:04:23.836910Z",
     "start_time": "2023-07-19T07:04:23.829349Z"
    }
   },
   "outputs": [
    {
     "data": {
      "text/html": [
       "<div>\n",
       "<style scoped>\n",
       "    .dataframe tbody tr th:only-of-type {\n",
       "        vertical-align: middle;\n",
       "    }\n",
       "\n",
       "    .dataframe tbody tr th {\n",
       "        vertical-align: top;\n",
       "    }\n",
       "\n",
       "    .dataframe thead th {\n",
       "        text-align: right;\n",
       "    }\n",
       "</style>\n",
       "<table border=\"1\" class=\"dataframe\">\n",
       "  <thead>\n",
       "    <tr style=\"text-align: right;\">\n",
       "      <th></th>\n",
       "      <th>customer_id</th>\n",
       "      <th>source_domain_normalized_vector</th>\n",
       "      <th>target_domain_ordered_categories</th>\n",
       "    </tr>\n",
       "  </thead>\n",
       "  <tbody>\n",
       "    <tr>\n",
       "      <th>0</th>\n",
       "      <td>masked</td>\n",
       "      <td>0.0, 0.0, 0.0, 0.0, 0.0, 0.161, 0.0, 0.0, 0.0,...</td>\n",
       "      <td>0, 0, 0, 0, 0, 0, 0, 0, 0, 0, 0, 0, 0, 0, 0, 0...</td>\n",
       "    </tr>\n",
       "    <tr>\n",
       "      <th>1</th>\n",
       "      <td>masked</td>\n",
       "      <td>0.0, 0.0, 0.039, 0.0, 0.0, 0.314, 0.0, 0.0, 0....</td>\n",
       "      <td>0, 0, 0, 0, 0, 0, 0, 0, 0, 0, 0, 0, 0, 0, 0, 0...</td>\n",
       "    </tr>\n",
       "    <tr>\n",
       "      <th>2</th>\n",
       "      <td>masked</td>\n",
       "      <td>0.0, 0.0, 0.0, 0.0, 0.0, 0.0, 0.0, 0.0, 0.0, 0...</td>\n",
       "      <td>0, 0, 0, 0, 0, 0, 0, 0, 0, 1, 0, 0, 0, 0, 0, 0...</td>\n",
       "    </tr>\n",
       "    <tr>\n",
       "      <th>3</th>\n",
       "      <td>masked</td>\n",
       "      <td>0.0, 0.0, 0.0, 0.0, 0.0, 0.0, 0.0, 0.0, 0.0, 0...</td>\n",
       "      <td>0, 0, 0, 0, 0, 0, 0, 0, 0, 1, 0, 0, 0, 0, 0, 0...</td>\n",
       "    </tr>\n",
       "    <tr>\n",
       "      <th>4</th>\n",
       "      <td>masked</td>\n",
       "      <td>0.0, 0.24, 0.0, 0.0, 0.0, 0.08, 0.04, 0.0, 0.0...</td>\n",
       "      <td>0, 0, 0, 0, 0, 0, 0, 0, 0, 0, 0, 0, 0, 0, 1, 0...</td>\n",
       "    </tr>\n",
       "  </tbody>\n",
       "</table>\n",
       "</div>"
      ],
      "text/plain": [
       "  customer_id                    source_domain_normalized_vector  \\\n",
       "0      masked  0.0, 0.0, 0.0, 0.0, 0.0, 0.161, 0.0, 0.0, 0.0,...   \n",
       "1      masked  0.0, 0.0, 0.039, 0.0, 0.0, 0.314, 0.0, 0.0, 0....   \n",
       "2      masked  0.0, 0.0, 0.0, 0.0, 0.0, 0.0, 0.0, 0.0, 0.0, 0...   \n",
       "3      masked  0.0, 0.0, 0.0, 0.0, 0.0, 0.0, 0.0, 0.0, 0.0, 0...   \n",
       "4      masked  0.0, 0.24, 0.0, 0.0, 0.0, 0.08, 0.04, 0.0, 0.0...   \n",
       "\n",
       "                    target_domain_ordered_categories  \n",
       "0  0, 0, 0, 0, 0, 0, 0, 0, 0, 0, 0, 0, 0, 0, 0, 0...  \n",
       "1  0, 0, 0, 0, 0, 0, 0, 0, 0, 0, 0, 0, 0, 0, 0, 0...  \n",
       "2  0, 0, 0, 0, 0, 0, 0, 0, 0, 1, 0, 0, 0, 0, 0, 0...  \n",
       "3  0, 0, 0, 0, 0, 0, 0, 0, 0, 1, 0, 0, 0, 0, 0, 0...  \n",
       "4  0, 0, 0, 0, 0, 0, 0, 0, 0, 0, 0, 0, 0, 0, 1, 0...  "
      ]
     },
     "execution_count": 10,
     "metadata": {},
     "output_type": "execute_result"
    }
   ],
   "source": [
    "train.head()"
   ]
  },
  {
   "cell_type": "code",
   "execution_count": 101,
   "metadata": {
    "ExecuteTime": {
     "end_time": "2023-07-17T07:24:36.137617Z",
     "start_time": "2023-07-17T07:24:36.003414Z"
    }
   },
   "outputs": [],
   "source": [
    "train['source_domain_normalized_vector'] = train['source_domain_normalized_vector'].apply(lambda x: eval(x))\n",
    "train['target_domain_ordered_categories'] = train['target_domain_ordered_categories'].apply(lambda x: eval(x))"
   ]
  },
  {
   "cell_type": "code",
   "execution_count": 102,
   "metadata": {
    "ExecuteTime": {
     "end_time": "2023-07-17T07:24:49.859608Z",
     "start_time": "2023-07-17T07:24:49.828137Z"
    },
    "application/vnd.databricks.v1+cell": {
     "cellMetadata": {
      "byteLimit": 2048000,
      "rowLimit": 10000
     },
     "inputWidgets": {},
     "nuid": "9e0e014f-6d8c-4033-9c62-4a167025fd88",
     "showTitle": false,
     "title": ""
    }
   },
   "outputs": [],
   "source": [
    "# Convert Dependent and Independent Variables to Pandas\n",
    "X_train = pd.DataFrame(train['source_domain_normalized_vector'].to_list()).values\n",
    "y_train = pd.DataFrame(train['target_domain_ordered_categories'].to_list()).values"
   ]
  },
  {
   "cell_type": "code",
   "execution_count": 103,
   "metadata": {
    "ExecuteTime": {
     "end_time": "2023-07-17T07:24:50.525011Z",
     "start_time": "2023-07-17T07:24:50.520792Z"
    },
    "application/vnd.databricks.v1+cell": {
     "cellMetadata": {
      "byteLimit": 2048000,
      "rowLimit": 10000
     },
     "inputWidgets": {},
     "nuid": "f45e8f3d-33a3-40fb-b0c1-5409b6d352c9",
     "showTitle": false,
     "title": ""
    }
   },
   "outputs": [
    {
     "data": {
      "text/plain": [
       "((1000, 88), (1000, 34))"
      ]
     },
     "execution_count": 103,
     "metadata": {},
     "output_type": "execute_result"
    }
   ],
   "source": [
    "X_train.shape, y_train.shape"
   ]
  },
  {
   "cell_type": "code",
   "execution_count": 105,
   "metadata": {
    "ExecuteTime": {
     "end_time": "2023-07-17T07:24:52.824127Z",
     "start_time": "2023-07-17T07:24:52.821565Z"
    },
    "application/vnd.databricks.v1+cell": {
     "cellMetadata": {},
     "inputWidgets": {},
     "nuid": "326cc2a5-b518-4603-bfb9-d88664e6fb91",
     "showTitle": false,
     "title": ""
    }
   },
   "outputs": [],
   "source": [
    "# Define Hyperparameters\n",
    "\n",
    "lr = 0.1\n",
    "epochs = 20\n",
    "batch_size = 32"
   ]
  },
  {
   "cell_type": "code",
   "execution_count": 106,
   "metadata": {
    "ExecuteTime": {
     "end_time": "2023-07-17T07:24:55.844607Z",
     "start_time": "2023-07-17T07:24:55.768050Z"
    },
    "application/vnd.databricks.v1+cell": {
     "cellMetadata": {},
     "inputWidgets": {},
     "nuid": "983f141f-f926-45cf-950e-a1ab796e5d9b",
     "showTitle": false,
     "title": ""
    }
   },
   "outputs": [
    {
     "name": "stdout",
     "output_type": "stream",
     "text": [
      "Model: \"sequential\"\n",
      "_________________________________________________________________\n",
      "Layer (type)                 Output Shape              Param #   \n",
      "=================================================================\n",
      "dense (Dense)                (None, 32)                2848      \n",
      "_________________________________________________________________\n",
      "dense_1 (Dense)              (None, 34)                1122      \n",
      "=================================================================\n",
      "Total params: 3,970\n",
      "Trainable params: 3,970\n",
      "Non-trainable params: 0\n",
      "_________________________________________________________________\n"
     ]
    }
   ],
   "source": [
    "tf.keras.backend.clear_session()\n",
    "\n",
    "input_dim = 88\n",
    "\n",
    "model = Sequential()\n",
    "\n",
    "model.add(Input(shape=(input_dim, )))\n",
    "model.add(Dense(32, input_dim=input_dim, activation='relu'))\n",
    "model.add(Dense(34, activation='sigmoid'))\n",
    "          \n",
    "model.compile(\n",
    "    optimizer = optimizers.SGD(learning_rate = lr),\n",
    "    loss = losses.BinaryCrossentropy(),\n",
    "    metrics = [metrics.BinaryCrossentropy(), metrics.BinaryAccuracy()]\n",
    ")\n",
    "\n",
    "model.summary()"
   ]
  },
  {
   "cell_type": "code",
   "execution_count": 107,
   "metadata": {
    "ExecuteTime": {
     "end_time": "2023-07-17T07:24:57.925671Z",
     "start_time": "2023-07-17T07:24:57.921837Z"
    },
    "application/vnd.databricks.v1+cell": {
     "cellMetadata": {},
     "inputWidgets": {},
     "nuid": "2953f6db-0845-4917-96cf-67cf204aa461",
     "showTitle": false,
     "title": ""
    }
   },
   "outputs": [
    {
     "data": {
      "text/plain": [
       "'multi_label_model_20_32_0.1'"
      ]
     },
     "execution_count": 107,
     "metadata": {},
     "output_type": "execute_result"
    }
   ],
   "source": [
    "model_name = f\"multi_label_model_{epochs}_{batch_size}_{lr}\"\n",
    "model_name"
   ]
  },
  {
   "cell_type": "code",
   "execution_count": 108,
   "metadata": {
    "ExecuteTime": {
     "end_time": "2023-07-17T07:24:59.800265Z",
     "start_time": "2023-07-17T07:24:59.795708Z"
    },
    "application/vnd.databricks.v1+cell": {
     "cellMetadata": {},
     "inputWidgets": {},
     "nuid": "a8d29bec-d06c-4e28-af82-15dd39e4bc8f",
     "showTitle": false,
     "title": ""
    }
   },
   "outputs": [],
   "source": [
    "model_callbacks = [\n",
    "    callbacks.EarlyStopping(patience=2),\n",
    "    callbacks.ModelCheckpoint(filepath=f'./{model_name}/'),\n",
    "    callbacks.TensorBoard(log_dir=f'./{model_name}/logs')\n",
    "]"
   ]
  },
  {
   "cell_type": "code",
   "execution_count": 109,
   "metadata": {
    "ExecuteTime": {
     "end_time": "2023-07-17T07:25:00.608083Z",
     "start_time": "2023-07-17T07:25:00.412425Z"
    }
   },
   "outputs": [
    {
     "name": "stdout",
     "output_type": "stream",
     "text": [
      "3 Multi Label L2 Category Classification DNN (1).ipynb\r\n",
      "\u001b[34mmulti_label_model_20_32_0.1\u001b[m\u001b[m\r\n",
      "requirements.txt\r\n",
      "train.csv\r\n",
      "train_2.csv\r\n",
      "val.csv\r\n",
      "val_2.csv\r\n"
     ]
    }
   ],
   "source": [
    "!ls"
   ]
  },
  {
   "cell_type": "code",
   "execution_count": 110,
   "metadata": {
    "ExecuteTime": {
     "end_time": "2023-07-17T07:25:11.211468Z",
     "start_time": "2023-07-17T07:25:03.839179Z"
    },
    "application/vnd.databricks.v1+cell": {
     "cellMetadata": {},
     "inputWidgets": {},
     "nuid": "55957f7f-ea31-42c0-835b-045a22222e75",
     "showTitle": false,
     "title": ""
    }
   },
   "outputs": [
    {
     "name": "stdout",
     "output_type": "stream",
     "text": [
      "Epoch 1/20\n",
      "32/32 [==============================] - 0s 2ms/step - loss: 0.6873 - binary_crossentropy: 0.6873 - binary_accuracy: 0.6138\n",
      "WARNING:tensorflow:Early stopping conditioned on metric `val_loss` which is not available. Available metrics are: loss,binary_crossentropy,binary_accuracy\n",
      "INFO:tensorflow:Assets written to: ./multi_label_model_20_32_0.1/assets\n",
      "Epoch 2/20\n",
      "32/32 [==============================] - 0s 1ms/step - loss: 0.6591 - binary_crossentropy: 0.6591 - binary_accuracy: 0.8749\n",
      "WARNING:tensorflow:Early stopping conditioned on metric `val_loss` which is not available. Available metrics are: loss,binary_crossentropy,binary_accuracy\n",
      "INFO:tensorflow:Assets written to: ./multi_label_model_20_32_0.1/assets\n",
      "Epoch 3/20\n",
      "32/32 [==============================] - 0s 777us/step - loss: 0.6306 - binary_crossentropy: 0.6306 - binary_accuracy: 0.9195\n",
      "WARNING:tensorflow:Early stopping conditioned on metric `val_loss` which is not available. Available metrics are: loss,binary_crossentropy,binary_accuracy\n",
      "INFO:tensorflow:Assets written to: ./multi_label_model_20_32_0.1/assets\n",
      "Epoch 4/20\n",
      "32/32 [==============================] - 0s 806us/step - loss: 0.5997 - binary_crossentropy: 0.5997 - binary_accuracy: 0.9328\n",
      "WARNING:tensorflow:Early stopping conditioned on metric `val_loss` which is not available. Available metrics are: loss,binary_crossentropy,binary_accuracy\n",
      "INFO:tensorflow:Assets written to: ./multi_label_model_20_32_0.1/assets\n",
      "Epoch 5/20\n",
      "32/32 [==============================] - 0s 837us/step - loss: 0.5662 - binary_crossentropy: 0.5662 - binary_accuracy: 0.9367\n",
      "WARNING:tensorflow:Early stopping conditioned on metric `val_loss` which is not available. Available metrics are: loss,binary_crossentropy,binary_accuracy\n",
      "INFO:tensorflow:Assets written to: ./multi_label_model_20_32_0.1/assets\n",
      "Epoch 6/20\n",
      "32/32 [==============================] - 0s 590us/step - loss: 0.5273 - binary_crossentropy: 0.5273 - binary_accuracy: 0.9400\n",
      "WARNING:tensorflow:Early stopping conditioned on metric `val_loss` which is not available. Available metrics are: loss,binary_crossentropy,binary_accuracy\n",
      "INFO:tensorflow:Assets written to: ./multi_label_model_20_32_0.1/assets\n",
      "Epoch 7/20\n",
      "32/32 [==============================] - 0s 833us/step - loss: 0.4876 - binary_crossentropy: 0.4876 - binary_accuracy: 0.9381\n",
      "WARNING:tensorflow:Early stopping conditioned on metric `val_loss` which is not available. Available metrics are: loss,binary_crossentropy,binary_accuracy\n",
      "INFO:tensorflow:Assets written to: ./multi_label_model_20_32_0.1/assets\n",
      "Epoch 8/20\n",
      "32/32 [==============================] - 0s 828us/step - loss: 0.4422 - binary_crossentropy: 0.4422 - binary_accuracy: 0.9409\n",
      "WARNING:tensorflow:Early stopping conditioned on metric `val_loss` which is not available. Available metrics are: loss,binary_crossentropy,binary_accuracy\n",
      "INFO:tensorflow:Assets written to: ./multi_label_model_20_32_0.1/assets\n",
      "Epoch 9/20\n",
      "32/32 [==============================] - 0s 742us/step - loss: 0.4007 - binary_crossentropy: 0.4007 - binary_accuracy: 0.9391\n",
      "WARNING:tensorflow:Early stopping conditioned on metric `val_loss` which is not available. Available metrics are: loss,binary_crossentropy,binary_accuracy\n",
      "INFO:tensorflow:Assets written to: ./multi_label_model_20_32_0.1/assets\n",
      "Epoch 10/20\n",
      "32/32 [==============================] - 0s 651us/step - loss: 0.3600 - binary_crossentropy: 0.3600 - binary_accuracy: 0.9392\n",
      "WARNING:tensorflow:Early stopping conditioned on metric `val_loss` which is not available. Available metrics are: loss,binary_crossentropy,binary_accuracy\n",
      "INFO:tensorflow:Assets written to: ./multi_label_model_20_32_0.1/assets\n",
      "Epoch 11/20\n",
      "32/32 [==============================] - 0s 577us/step - loss: 0.3258 - binary_crossentropy: 0.3258 - binary_accuracy: 0.9395\n",
      "WARNING:tensorflow:Early stopping conditioned on metric `val_loss` which is not available. Available metrics are: loss,binary_crossentropy,binary_accuracy\n",
      "INFO:tensorflow:Assets written to: ./multi_label_model_20_32_0.1/assets\n",
      "Epoch 12/20\n",
      "32/32 [==============================] - 0s 746us/step - loss: 0.2954 - binary_crossentropy: 0.2954 - binary_accuracy: 0.9400\n",
      "WARNING:tensorflow:Early stopping conditioned on metric `val_loss` which is not available. Available metrics are: loss,binary_crossentropy,binary_accuracy\n",
      "INFO:tensorflow:Assets written to: ./multi_label_model_20_32_0.1/assets\n",
      "Epoch 13/20\n",
      "32/32 [==============================] - 0s 875us/step - loss: 0.2752 - binary_crossentropy: 0.2752 - binary_accuracy: 0.9386\n",
      "WARNING:tensorflow:Early stopping conditioned on metric `val_loss` which is not available. Available metrics are: loss,binary_crossentropy,binary_accuracy\n",
      "INFO:tensorflow:Assets written to: ./multi_label_model_20_32_0.1/assets\n",
      "Epoch 14/20\n",
      "32/32 [==============================] - 0s 1ms/step - loss: 0.2583 - binary_crossentropy: 0.2583 - binary_accuracy: 0.9390\n",
      "WARNING:tensorflow:Early stopping conditioned on metric `val_loss` which is not available. Available metrics are: loss,binary_crossentropy,binary_accuracy\n",
      "INFO:tensorflow:Assets written to: ./multi_label_model_20_32_0.1/assets\n",
      "Epoch 15/20\n",
      "32/32 [==============================] - 0s 910us/step - loss: 0.2470 - binary_crossentropy: 0.2470 - binary_accuracy: 0.9375\n",
      "WARNING:tensorflow:Early stopping conditioned on metric `val_loss` which is not available. Available metrics are: loss,binary_crossentropy,binary_accuracy\n",
      "INFO:tensorflow:Assets written to: ./multi_label_model_20_32_0.1/assets\n",
      "Epoch 16/20\n",
      "32/32 [==============================] - 0s 589us/step - loss: 0.2357 - binary_crossentropy: 0.2357 - binary_accuracy: 0.9382\n",
      "WARNING:tensorflow:Early stopping conditioned on metric `val_loss` which is not available. Available metrics are: loss,binary_crossentropy,binary_accuracy\n",
      "INFO:tensorflow:Assets written to: ./multi_label_model_20_32_0.1/assets\n",
      "Epoch 17/20\n",
      "32/32 [==============================] - 0s 716us/step - loss: 0.2233 - binary_crossentropy: 0.2233 - binary_accuracy: 0.9410\n",
      "WARNING:tensorflow:Early stopping conditioned on metric `val_loss` which is not available. Available metrics are: loss,binary_crossentropy,binary_accuracy\n",
      "INFO:tensorflow:Assets written to: ./multi_label_model_20_32_0.1/assets\n",
      "Epoch 18/20\n",
      "32/32 [==============================] - 0s 655us/step - loss: 0.2199 - binary_crossentropy: 0.2199 - binary_accuracy: 0.9406\n",
      "WARNING:tensorflow:Early stopping conditioned on metric `val_loss` which is not available. Available metrics are: loss,binary_crossentropy,binary_accuracy\n",
      "INFO:tensorflow:Assets written to: ./multi_label_model_20_32_0.1/assets\n",
      "Epoch 19/20\n",
      "32/32 [==============================] - 0s 587us/step - loss: 0.2180 - binary_crossentropy: 0.2180 - binary_accuracy: 0.9396\n",
      "WARNING:tensorflow:Early stopping conditioned on metric `val_loss` which is not available. Available metrics are: loss,binary_crossentropy,binary_accuracy\n",
      "INFO:tensorflow:Assets written to: ./multi_label_model_20_32_0.1/assets\n",
      "Epoch 20/20\n",
      "32/32 [==============================] - 0s 689us/step - loss: 0.2168 - binary_crossentropy: 0.2168 - binary_accuracy: 0.9385\n",
      "WARNING:tensorflow:Early stopping conditioned on metric `val_loss` which is not available. Available metrics are: loss,binary_crossentropy,binary_accuracy\n",
      "INFO:tensorflow:Assets written to: ./multi_label_model_20_32_0.1/assets\n"
     ]
    },
    {
     "data": {
      "text/plain": [
       "<tensorflow.python.keras.callbacks.History at 0x7ff44949cf10>"
      ]
     },
     "execution_count": 110,
     "metadata": {},
     "output_type": "execute_result"
    }
   ],
   "source": [
    "model.fit(\n",
    "    X_train\n",
    "    , y_train\n",
    "    , epochs=epochs\n",
    "    , batch_size=batch_size\n",
    "    , use_multiprocessing=True\n",
    "    , callbacks=model_callbacks \n",
    ")"
   ]
  },
  {
   "cell_type": "code",
   "execution_count": 111,
   "metadata": {
    "ExecuteTime": {
     "end_time": "2023-07-17T07:25:14.562302Z",
     "start_time": "2023-07-17T07:25:14.558801Z"
    },
    "application/vnd.databricks.v1+cell": {
     "cellMetadata": {
      "byteLimit": 2048000,
      "rowLimit": 10000
     },
     "inputWidgets": {},
     "nuid": "d02611c8-64b8-4953-89cb-78b7bedef7ec",
     "showTitle": false,
     "title": ""
    }
   },
   "outputs": [
    {
     "name": "stdout",
     "output_type": "stream",
     "text": [
      "The tensorboard extension is already loaded. To reload it, use:\n",
      "  %reload_ext tensorboard\n"
     ]
    }
   ],
   "source": [
    "%load_ext tensorboard"
   ]
  },
  {
   "cell_type": "code",
   "execution_count": 112,
   "metadata": {
    "ExecuteTime": {
     "end_time": "2023-07-17T07:25:15.701447Z",
     "start_time": "2023-07-17T07:25:15.691969Z"
    },
    "application/vnd.databricks.v1+cell": {
     "cellMetadata": {
      "byteLimit": 2048000,
      "rowLimit": 10000
     },
     "inputWidgets": {},
     "nuid": "bdcd01a6-ffea-434c-8bc1-0d5043733378",
     "showTitle": false,
     "title": ""
    }
   },
   "outputs": [
    {
     "data": {
      "text/plain": [
       "Reusing TensorBoard on port 6007 (pid 13470), started 0:21:39 ago. (Use '!kill 13470' to kill it.)"
      ]
     },
     "metadata": {},
     "output_type": "display_data"
    },
    {
     "data": {
      "text/html": [
       "\n",
       "      <iframe id=\"tensorboard-frame-8eeac66ea91dd009\" width=\"100%\" height=\"800\" frameborder=\"0\">\n",
       "      </iframe>\n",
       "      <script>\n",
       "        (function() {\n",
       "          const frame = document.getElementById(\"tensorboard-frame-8eeac66ea91dd009\");\n",
       "          const url = new URL(\"/\", window.location);\n",
       "          const port = 6007;\n",
       "          if (port) {\n",
       "            url.port = port;\n",
       "          }\n",
       "          frame.src = url;\n",
       "        })();\n",
       "      </script>\n",
       "    "
      ],
      "text/plain": [
       "<IPython.core.display.HTML object>"
      ]
     },
     "metadata": {},
     "output_type": "display_data"
    }
   ],
   "source": [
    "%tensorboard --logdir ./multi_label_model_20_32_0.1/logs"
   ]
  }
 ],
 "metadata": {
  "application/vnd.databricks.v1+notebook": {
   "dashboards": [],
   "language": "python",
   "notebookMetadata": {
    "mostRecentlyExecutedCommandWithImplicitDF": {
     "commandId": 3323424386449119,
     "dataframes": [
      "_sqldf"
     ]
    },
    "pythonIndentUnit": 4
   },
   "notebookName": "3 Multi Label L2 Category Classification DNN (1)",
   "widgets": {}
  },
  "kernelspec": {
   "display_name": "Python 3",
   "language": "python",
   "name": "python3"
  },
  "language_info": {
   "codemirror_mode": {
    "name": "ipython",
    "version": 3
   },
   "file_extension": ".py",
   "mimetype": "text/x-python",
   "name": "python",
   "nbconvert_exporter": "python",
   "pygments_lexer": "ipython3",
   "version": "3.7.6"
  },
  "toc": {
   "base_numbering": 1,
   "nav_menu": {},
   "number_sections": true,
   "sideBar": true,
   "skip_h1_title": false,
   "title_cell": "Table of Contents",
   "title_sidebar": "Contents",
   "toc_cell": false,
   "toc_position": {},
   "toc_section_display": true,
   "toc_window_display": false
  },
  "varInspector": {
   "cols": {
    "lenName": 16,
    "lenType": 16,
    "lenVar": 40
   },
   "kernels_config": {
    "python": {
     "delete_cmd_postfix": "",
     "delete_cmd_prefix": "del ",
     "library": "var_list.py",
     "varRefreshCmd": "print(var_dic_list())"
    },
    "r": {
     "delete_cmd_postfix": ") ",
     "delete_cmd_prefix": "rm(",
     "library": "var_list.r",
     "varRefreshCmd": "cat(var_dic_list()) "
    }
   },
   "types_to_exclude": [
    "module",
    "function",
    "builtin_function_or_method",
    "instance",
    "_Feature"
   ],
   "window_display": false
  }
 },
 "nbformat": 4,
 "nbformat_minor": 1
}
