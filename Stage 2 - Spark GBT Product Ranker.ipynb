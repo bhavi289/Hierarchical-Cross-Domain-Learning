{
 "cells": [
  {
   "cell_type": "code",
   "execution_count": 0,
   "metadata": {
    "application/vnd.databricks.v1+cell": {
     "cellMetadata": {},
     "inputWidgets": {},
     "nuid": "1147c73c-66ab-40f7-9af7-00254994df01",
     "showTitle": false,
     "title": ""
    }
   },
   "outputs": [],
   "source": [
    "# Train Product Ranker using Spark GBT\n",
    "# Using Dummy Data"
   ]
  },
  {
   "cell_type": "code",
   "execution_count": 0,
   "metadata": {
    "application/vnd.databricks.v1+cell": {
     "cellMetadata": {
      "byteLimit": 2048000,
      "rowLimit": 10000
     },
     "inputWidgets": {},
     "nuid": "b9497e2e-7232-49a0-aeb9-75e611eb162e",
     "showTitle": false,
     "title": ""
    }
   },
   "outputs": [
    {
     "data": {
      "text/html": [
       "<style scoped>\n",
       "  .ansiout {\n",
       "    display: block;\n",
       "    unicode-bidi: embed;\n",
       "    white-space: pre-wrap;\n",
       "    word-wrap: break-word;\n",
       "    word-break: break-all;\n",
       "    font-family: \"Source Code Pro\", \"Menlo\", monospace;;\n",
       "    font-size: 13px;\n",
       "    color: #555;\n",
       "    margin-left: 4px;\n",
       "    line-height: 19px;\n",
       "  }\n",
       "</style>\n",
       "<div class=\"ansiout\"></div>"
      ]
     },
     "metadata": {
      "application/vnd.databricks.v1+output": {
       "addedWidgets": {},
       "arguments": {},
       "data": "<div class=\"ansiout\"></div>",
       "datasetInfos": [],
       "metadata": {},
       "removedWidgets": [],
       "type": "html"
      }
     },
     "output_type": "display_data"
    }
   ],
   "source": [
    "import operator\n",
    "\n",
    "from pyspark.ml import Pipeline\n",
    "from pyspark.ml import PipelineModel\n",
    "from pyspark.ml.regression import GBTRegressor\n",
    "from pyspark.ml.classification import LogisticRegression\n",
    "from pyspark.ml.classification import GBTClassifier,RandomForestClassifier\n",
    "from pyspark.ml.feature import StringIndexer, VectorAssembler,OneHotEncoder, StandardScaler\n",
    "\n",
    "\n",
    "from pyspark.sql import functions as F\n",
    "from pyspark.sql.functions import udf,struct,col\n",
    "from pyspark.ml.evaluation import BinaryClassificationEvaluator\n",
    "from pyspark.ml.tuning import ParamGridBuilder, TrainValidationSplit\n",
    "from pyspark.sql.types import IntegerType,FloatType,ArrayType,StringType,MapType,DoubleType\n",
    "\n",
    "sparse_values = udf(lambda v: v.values.tolist(), ArrayType(DoubleType()))"
   ]
  },
  {
   "cell_type": "code",
   "execution_count": 0,
   "metadata": {
    "application/vnd.databricks.v1+cell": {
     "cellMetadata": {
      "byteLimit": 2048000,
      "rowLimit": 10000
     },
     "inputWidgets": {},
     "nuid": "0d79943a-4f23-446f-86cb-04560d4d2525",
     "showTitle": false,
     "title": ""
    }
   },
   "outputs": [
    {
     "data": {
      "text/html": [
       "<style scoped>\n",
       "  .ansiout {\n",
       "    display: block;\n",
       "    unicode-bidi: embed;\n",
       "    white-space: pre-wrap;\n",
       "    word-wrap: break-word;\n",
       "    word-break: break-all;\n",
       "    font-family: \"Source Code Pro\", \"Menlo\", monospace;;\n",
       "    font-size: 13px;\n",
       "    color: #555;\n",
       "    margin-left: 4px;\n",
       "    line-height: 19px;\n",
       "  }\n",
       "</style>\n",
       "<div class=\"ansiout\"></div>"
      ]
     },
     "metadata": {
      "application/vnd.databricks.v1+output": {
       "addedWidgets": {},
       "arguments": {},
       "data": "<div class=\"ansiout\"></div>",
       "datasetInfos": [],
       "metadata": {},
       "removedWidgets": [],
       "type": "html"
      }
     },
     "output_type": "display_data"
    }
   ],
   "source": [
    "train_samples = (\n",
    "    spark.read.parquet('stage_2_train.parquet')\n",
    ")\n",
    "test_samples = (\n",
    "    spark.read.parquet('stage_2_test.parquet')\n",
    ")"
   ]
  },
  {
   "cell_type": "code",
   "execution_count": 0,
   "metadata": {
    "application/vnd.databricks.v1+cell": {
     "cellMetadata": {
      "byteLimit": 2048000,
      "rowLimit": 10000
     },
     "inputWidgets": {},
     "nuid": "9b518731-0d54-4f9c-88a7-74a1ed88b839",
     "showTitle": false,
     "title": ""
    }
   },
   "outputs": [
    {
     "data": {
      "text/html": [
       "<style scoped>\n",
       "  .ansiout {\n",
       "    display: block;\n",
       "    unicode-bidi: embed;\n",
       "    white-space: pre-wrap;\n",
       "    word-wrap: break-word;\n",
       "    word-break: break-all;\n",
       "    font-family: \"Source Code Pro\", \"Menlo\", monospace;;\n",
       "    font-size: 13px;\n",
       "    color: #555;\n",
       "    margin-left: 4px;\n",
       "    line-height: 19px;\n",
       "  }\n",
       "</style>\n",
       "<div class=\"ansiout\">Out[14]: (1000, 800)</div>"
      ]
     },
     "metadata": {
      "application/vnd.databricks.v1+output": {
       "addedWidgets": {},
       "arguments": {},
       "data": "<div class=\"ansiout\">Out[14]: (1000, 800)</div>",
       "datasetInfos": [],
       "metadata": {},
       "removedWidgets": [],
       "type": "html"
      }
     },
     "output_type": "display_data"
    }
   ],
   "source": [
    "train_samples.count(), test_samples.count()"
   ]
  },
  {
   "cell_type": "code",
   "execution_count": 0,
   "metadata": {
    "application/vnd.databricks.v1+cell": {
     "cellMetadata": {
      "byteLimit": 2048000,
      "rowLimit": 10000
     },
     "inputWidgets": {},
     "nuid": "bc08a2a9-793c-48c7-8021-0ea91626927a",
     "showTitle": false,
     "title": ""
    }
   },
   "outputs": [
    {
     "data": {
      "text/html": [
       "<style scoped>\n",
       "  .ansiout {\n",
       "    display: block;\n",
       "    unicode-bidi: embed;\n",
       "    white-space: pre-wrap;\n",
       "    word-wrap: break-word;\n",
       "    word-break: break-all;\n",
       "    font-family: \"Source Code Pro\", \"Menlo\", monospace;;\n",
       "    font-size: 13px;\n",
       "    color: #555;\n",
       "    margin-left: 4px;\n",
       "    line-height: 19px;\n",
       "  }\n",
       "</style>\n",
       "<div class=\"ansiout\">-RECORD 0-------------------------------------\n",
       " customer_id           | masked               \n",
       " product_id            | masked               \n",
       " L1                    | Fruits &amp; Vegetables  \n",
       " L2                    | Vegetables           \n",
       " L3                    | Curry Leaves         \n",
       " rwf                   | 7.570381631952197    \n",
       " stage_1_prediction_l1 | [0.22482258081436... \n",
       " stage_1_prediction_l2 | [0.06175852194428... \n",
       " stage_1_prediction_l3 | [0.03627535700798... \n",
       " product_l1_score      | 0.19695751           \n",
       " product_l2_score      | 0.1409078            \n",
       " product_l3_score      | 0.0                  \n",
       " product_l1_index      | 3                    \n",
       " product_l2_index      | 4                    \n",
       " product_l3_index      | 32                   \n",
       " order_flag            | 0                    \n",
       "-RECORD 1-------------------------------------\n",
       " customer_id           | masked               \n",
       " product_id            | masked               \n",
       " L1                    | Packaged Food        \n",
       " L2                    | Sweets               \n",
       " L3                    | Sweets               \n",
       " rwf                   | 2.334898803738472    \n",
       " stage_1_prediction_l1 | [0.22482258081436... \n",
       " stage_1_prediction_l2 | [0.06175852194428... \n",
       " stage_1_prediction_l3 | [0.03627535700798... \n",
       " product_l1_score      | 0.17995937           \n",
       " product_l2_score      | 0.020382617          \n",
       " product_l3_score      | 0.0                  \n",
       " product_l1_index      | 5                    \n",
       " product_l2_index      | 19                   \n",
       " product_l3_index      | 32                   \n",
       " order_flag            | 0                    \n",
       "only showing top 2 rows\n",
       "\n",
       "</div>"
      ]
     },
     "metadata": {
      "application/vnd.databricks.v1+output": {
       "addedWidgets": {},
       "arguments": {},
       "data": "<div class=\"ansiout\">-RECORD 0-------------------------------------\n customer_id           | masked               \n product_id            | masked               \n L1                    | Fruits &amp; Vegetables  \n L2                    | Vegetables           \n L3                    | Curry Leaves         \n rwf                   | 7.570381631952197    \n stage_1_prediction_l1 | [0.22482258081436... \n stage_1_prediction_l2 | [0.06175852194428... \n stage_1_prediction_l3 | [0.03627535700798... \n product_l1_score      | 0.19695751           \n product_l2_score      | 0.1409078            \n product_l3_score      | 0.0                  \n product_l1_index      | 3                    \n product_l2_index      | 4                    \n product_l3_index      | 32                   \n order_flag            | 0                    \n-RECORD 1-------------------------------------\n customer_id           | masked               \n product_id            | masked               \n L1                    | Packaged Food        \n L2                    | Sweets               \n L3                    | Sweets               \n rwf                   | 2.334898803738472    \n stage_1_prediction_l1 | [0.22482258081436... \n stage_1_prediction_l2 | [0.06175852194428... \n stage_1_prediction_l3 | [0.03627535700798... \n product_l1_score      | 0.17995937           \n product_l2_score      | 0.020382617          \n product_l3_score      | 0.0                  \n product_l1_index      | 5                    \n product_l2_index      | 19                   \n product_l3_index      | 32                   \n order_flag            | 0                    \nonly showing top 2 rows\n\n</div>",
       "datasetInfos": [],
       "metadata": {},
       "removedWidgets": [],
       "type": "html"
      }
     },
     "output_type": "display_data"
    }
   ],
   "source": [
    "# sample data\n",
    "train_samples.show(2, vertical = True)"
   ]
  },
  {
   "cell_type": "code",
   "execution_count": 0,
   "metadata": {
    "application/vnd.databricks.v1+cell": {
     "cellMetadata": {
      "byteLimit": 2048000,
      "rowLimit": 10000
     },
     "inputWidgets": {},
     "nuid": "c0cedf16-5974-440e-a135-92dd4f59a0ac",
     "showTitle": false,
     "title": ""
    }
   },
   "outputs": [
    {
     "data": {
      "text/html": [
       "<style scoped>\n",
       "  .ansiout {\n",
       "    display: block;\n",
       "    unicode-bidi: embed;\n",
       "    white-space: pre-wrap;\n",
       "    word-wrap: break-word;\n",
       "    word-break: break-all;\n",
       "    font-family: \"Source Code Pro\", \"Menlo\", monospace;;\n",
       "    font-size: 13px;\n",
       "    color: #555;\n",
       "    margin-left: 4px;\n",
       "    line-height: 19px;\n",
       "  }\n",
       "</style>\n",
       "<div class=\"ansiout\">AUC train data  :  1.0\n",
       "AUC test data  :  0.553345959595959\n",
       "(&#39;product_l2_index&#39;, 0.2843801339659114)\n",
       "(&#39;product_l2_score&#39;, 0.24054578429717452)\n",
       "(&#39;product_l1_score&#39;, 0.23094751596916832)\n",
       "(&#39;rwf&#39;, 0.12497873444294927)\n",
       "(&#39;product_l3_score&#39;, 0.06582190389483861)\n",
       "(&#39;product_l1_index&#39;, 0.03432621391695614)\n",
       "(&#39;product_l3_index&#39;, 0.018999713513001865)\n",
       "</div>"
      ]
     },
     "metadata": {
      "application/vnd.databricks.v1+output": {
       "addedWidgets": {},
       "arguments": {},
       "data": "<div class=\"ansiout\">AUC train data  :  1.0\nAUC test data  :  0.553345959595959\n(&#39;product_l2_index&#39;, 0.2843801339659114)\n(&#39;product_l2_score&#39;, 0.24054578429717452)\n(&#39;product_l1_score&#39;, 0.23094751596916832)\n(&#39;rwf&#39;, 0.12497873444294927)\n(&#39;product_l3_score&#39;, 0.06582190389483861)\n(&#39;product_l1_index&#39;, 0.03432621391695614)\n(&#39;product_l3_index&#39;, 0.018999713513001865)\n</div>",
       "datasetInfos": [],
       "metadata": {},
       "removedWidgets": [],
       "type": "html"
      }
     },
     "output_type": "display_data"
    }
   ],
   "source": [
    "# selected features\n",
    "assemblerInputs = [\n",
    "'product_l2_score',\n",
    "'product_l2_index',\n",
    "'product_l1_score',\n",
    "'product_l1_index',\n",
    "'product_l3_score',\n",
    "'product_l3_index',\n",
    "'rwf'\n",
    "]\n",
    "\n",
    "assembler = VectorAssembler(inputCols=assemblerInputs, outputCol=\"features\")\n",
    "\n",
    "standard_scaler = StandardScaler(inputCol='features',outputCol='scaled')\n",
    "\n",
    "gbt = GBTClassifier(labelCol=\"order_flag\", featuresCol=\"features\",maxIter= 40, maxDepth=6)\n",
    "\n",
    "order_flag_prediction_pipeline = Pipeline(\n",
    "    stages=[\n",
    "        assembler,\n",
    "        gbt\n",
    "    ]\n",
    ")\n",
    "\n",
    "product_probability_fit = order_flag_prediction_pipeline.fit(train_samples)\n",
    "\n",
    "product_probability = (\n",
    "    product_probability_fit\n",
    "    .transform(train_samples)\n",
    "    .withColumn(\"pred\", sparse_values(\"probability\"))\n",
    "    .withColumn('predicted_prob', F.col('pred')[1])\n",
    ")\n",
    "\n",
    "evaluator = BinaryClassificationEvaluator(rawPredictionCol='predicted_prob', labelCol='order_flag', metricName='areaUnderROC')\n",
    "\n",
    "print(\"AUC train data  : \", evaluator.evaluate(product_probability))\n",
    "\n",
    "test_product_probability = (\n",
    "    product_probability_fit\n",
    "    .transform(test_samples)\n",
    "    .withColumn(\"pred\", sparse_values(\"probability\"))\n",
    "    .withColumn('predicted_prob', F.col('pred')[1])\n",
    ")\n",
    "\n",
    "test_evaluator = BinaryClassificationEvaluator(rawPredictionCol='predicted_prob', labelCol='order_flag', metricName='areaUnderROC')\n",
    "\n",
    "print(\"AUC test data  : \", test_evaluator.evaluate(test_product_probability))\n",
    "\n",
    "#Print feature importance\n",
    "feature_importances = product_probability_fit.stages[-1].featureImportances\n",
    "list1 = sorted(list(zip(assemblerInputs, feature_importances)), key=operator.itemgetter(1), reverse=True)\n",
    "for x in list1:\n",
    "    print(x)"
   ]
  }
 ],
 "metadata": {
  "application/vnd.databricks.v1+notebook": {
   "dashboards": [],
   "language": "python",
   "notebookMetadata": {
    "pythonIndentUnit": 4
   },
   "notebookName": "Stage 2: Spark GBT Product Ranker",
   "widgets": {}
  },
  "kernelspec": {
   "display_name": "Python 3",
   "language": "python",
   "name": "python3"
  },
  "language_info": {
   "codemirror_mode": {
    "name": "ipython",
    "version": 3
   },
   "file_extension": ".py",
   "mimetype": "text/x-python",
   "name": "python",
   "nbconvert_exporter": "python",
   "pygments_lexer": "ipython3",
   "version": "3.7.6"
  },
  "toc": {
   "base_numbering": 1,
   "nav_menu": {},
   "number_sections": true,
   "sideBar": true,
   "skip_h1_title": false,
   "title_cell": "Table of Contents",
   "title_sidebar": "Contents",
   "toc_cell": false,
   "toc_position": {},
   "toc_section_display": true,
   "toc_window_display": false
  },
  "varInspector": {
   "cols": {
    "lenName": 16,
    "lenType": 16,
    "lenVar": 40
   },
   "kernels_config": {
    "python": {
     "delete_cmd_postfix": "",
     "delete_cmd_prefix": "del ",
     "library": "var_list.py",
     "varRefreshCmd": "print(var_dic_list())"
    },
    "r": {
     "delete_cmd_postfix": ") ",
     "delete_cmd_prefix": "rm(",
     "library": "var_list.r",
     "varRefreshCmd": "cat(var_dic_list()) "
    }
   },
   "types_to_exclude": [
    "module",
    "function",
    "builtin_function_or_method",
    "instance",
    "_Feature"
   ],
   "window_display": false
  }
 },
 "nbformat": 4,
 "nbformat_minor": 1
}
